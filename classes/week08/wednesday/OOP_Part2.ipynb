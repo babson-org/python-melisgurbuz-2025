{
 "cells": [
  {
   "cell_type": "markdown",
   "id": "intro",
   "metadata": {},
   "source": [
    "# 🧠 Lecture 2: Controlling Access and Behavior in Objects\n",
    "### Encapsulation • Properties • Magic Methods • Composition"
   ]
  },
  {
   "cell_type": "markdown",
   "id": "review",
   "metadata": {},
   "source": [
    "## 1️⃣ Quick Review — OOP Part 1\n",
    "- Classes are *blueprints* for creating objects.\n",
    "- Objects store **state** (attributes) and **behavior** (methods).\n",
    "- We used `__init__` to initialize state and `self` to refer to the object.\n",
    "- OOP lets data and behavior live together — objects manage their own state.\n",
    "- Procedural vs OOP: OOP bundles logic *with* data."
   ]
  },
  {
   "cell_type": "markdown",
   "id": "direct-access",
   "metadata": {},
   "source": [
    "## 2️⃣ Direct Attribute Access — Why It’s a Problem\n",
    "```python\n",
    "class Car:\n",
    "    def __init__(self, make, model, year, speed=0):\n",
    "        self.make = make\n",
    "        self.model = model\n",
    "        self.year = year\n",
    "        self.speed = speed\n",
    "\n",
    "mycar = Car(\"Toyota\", \"Camry\", 2022)\n",
    "mycar.speed = -50   # ⚠️ logically invalid\n",
    "```\n",
    "Python allows this, but it violates **encapsulation** — we bypass the logic that should enforce valid values."
   ]
  },
  {
   "cell_type": "markdown",
   "id": "consenting",
   "metadata": {},
   "source": [
    "## 3️⃣ Python’s Data Model: \"We’re All Consenting Adults\"\n",
    "Python trusts developers not to break things deliberately.  \n",
    "Private attributes are only *conventionally* protected using a leading underscore (`_speed`).  \n",
    "This means: you *can* access `_speed`, but you *shouldn’t*.  \n",
    "> 🧭 Philosophy: *“We’re all consenting adults here.”*"
   ]
  },
  {
   "cell_type": "markdown",
   "id": "getter-setter",
   "metadata": {},
   "source": [
    "## 4️⃣ Encapsulation with Getters and Setters (Traditional Way)\n",
    "```python\n",
    "class Car:\n",
    "    def __init__(self, make, model, year, speed=0):\n",
    "        self._make = make\n",
    "        self._model = model\n",
    "        self._year = year\n",
    "        self._speed = speed\n",
    "\n",
    "    def get_speed(self):\n",
    "        return self._speed\n",
    "\n",
    "    def set_speed(self, new_speed):\n",
    "        if new_speed >= 0:\n",
    "            self._speed = new_speed\n",
    "        else:\n",
    "            print(\"⚠️ Speed cannot be negative.\")\n",
    "\n",
    "mycar = Car(\"Toyota\", \"Camry\", 2022)\n",
    "mycar.set_speed(50)\n",
    "print(mycar.get_speed())\n",
    "```"
   ]
  },
  {
   "cell_type": "markdown",
   "id": "property",
   "metadata": {},
   "source": [
    "## 5️⃣ The Pythonic Way — Using `@property`\n",
    "We can make access look natural while keeping validation inside the class.\n",
    "```python\n",
    "class Car:\n",
    "    def __init__(self, make, model, year, speed=0):\n",
    "        self.make = make\n",
    "        self._model = model\n",
    "        self._speed = speed\n",
    "\n",
    "    @property\n",
    "    def speed(self):\n",
    "        return self._speed\n",
    "\n",
    "    @speed.setter\n",
    "    def speed(self, value):\n",
    "        if value >= 0:\n",
    "            self._speed = value\n",
    "        else:\n",
    "            print(\"⚠️ Speed cannot be negative\")\n",
    "\n",
    "mycar = Car(\"Toyota\", \"Camry\", 2022)\n",
    "mycar.speed = 60  # calls setter\n",
    "print(mycar.speed)  # calls getter\n",
    "```"
   ]
  },
  {
   "cell_type": "markdown",
   "id": "property-mechanics",
   "metadata": {},
   "source": [
    "## 6️⃣ How `@property` Works Under the Hood\n",
    "- The decorator turns your method into a **`property` object**, which implements `__get__` and `__set__`.\n",
    "- When you access `obj.attr`, Python calls `Class.attr.__get__(obj)`.\n",
    "- When you assign `obj.attr = value`, Python calls `Class.attr.__set__(obj, value)`.\n",
    "- The value after `=` becomes the argument to your setter function.\n",
    "\n",
    "So `mycar.speed = 60` → `Car.speed.__set__(mycar, 60)` → calls `fset(mycar, 60)`."
   ]
  },
  {
   "cell_type": "markdown",
   "id": "str-add",
   "metadata": {},
   "source": [
    "## 7️⃣ Magic Methods: `__str__` and `__add__`\n",
    "### `__str__` controls how your object prints\n",
    "```python\n",
    "class Car:\n",
    "    def __init__(self, make, model, year, speed=0):\n",
    "        self.make = make\n",
    "        self.model = model\n",
    "        self.year = year\n",
    "        self.speed = speed\n",
    "\n",
    "    def __str__(self):\n",
    "        return f\"{self.year} {self.make} {self.model} traveling at {self.speed} mph\"\n",
    "\n",
    "print(Car(\"Tesla\", \"Model S\", 2024, 70))\n",
    "```\n",
    "\n",
    "### `__add__` defines how `+` works\n",
    "```python\n",
    "class BankAccount:\n",
    "    def __init__(self, owner, balance=0):\n",
    "        self.owner = owner\n",
    "        self.balance = balance\n",
    "\n",
    "    def __add__(self, other):\n",
    "        if isinstance(other, BankAccount):\n",
    "            return BankAccount(\"Joint Account\", self.balance + other.balance)\n",
    "        raise TypeError(\"Can only add two BankAccount objects\")\n",
    "\n",
    "    def __str__(self):\n",
    "        return f\"{self.owner} — Balance: ${self.balance}\"\n",
    "\n",
    "acct1 = BankAccount(\"Alice\", 500)\n",
    "acct2 = BankAccount(\"Bob\", 700)\n",
    "joint = acct1 + acct2\n",
    "print(joint)\n",
    "```"
   ]
  },
  {
   "cell_type": "markdown",
   "id": "add-explained",
   "metadata": {},
   "source": [
    "## 8️⃣ How Python Knows Which `__add__` to Call\n",
    "- `acct1 + acct2` → `acct1.__add__(acct2)`\n",
    "- The *left operand’s* class defines what happens.\n",
    "- Inside `__add__`, `self` is `acct1` and `other` is `acct2`.\n",
    "- We can verify `type(other)` with `isinstance()`.\n",
    "- If `__add__` isn’t defined, Python tries `acct2.__radd__(acct1)`."
   ]
  },
  {
   "cell_type": "markdown",
   "id": "todo",
   "metadata": {},
   "source": [
    "## 9️⃣ Composition Example — Todo List Manager\n",
    "We’ll build two classes:\n",
    "- `Todo`: one task, with creation and due dates stored in a dictionary.\n",
    "- `MyList`: manages a list of `Todo` objects."
   ]
  },
  {
   "cell_type": "code",
   "execution_count": null,
   "id": "todo-code",
   "metadata": {},
   "outputs": [],
   "source": [
    "import datetime\n",
    "\n",
    "class Todo:\n",
    "    def __init__(self, text, created, due):\n",
    "        try:\n",
    "            created_date = datetime.date.fromisoformat(created)\n",
    "            due_date = datetime.date.fromisoformat(due)\n",
    "        except ValueError:\n",
    "            raise ValueError(\"Dates must be in YYYY-MM-DD format (e.g., 2025-10-17)\")\n",
    "\n",
    "        self.data = {\n",
    "            \"text\": text,\n",
    "            \"created\": created_date,\n",
    "            \"due\": due_date\n",
    "        }\n",
    "\n",
    "    def is_overdue(self):\n",
    "        return self.data[\"due\"] < datetime.date.today()\n",
    "\n",
    "    def edit_text(self, new_text):\n",
    "        self.data[\"text\"] = new_text\n",
    "\n",
    "    def __str__(self):\n",
    "        status = \"⚠️ OVERDUE\" if self.is_overdue() else \"✅ On time\"\n",
    "        return f\"[{status}] {self.data['text']} (Created: {self.data['created']}, Due: {self.data['due']})\"\n",
    "\n",
    "\n",
    "class MyList:\n",
    "    def __init__(self):\n",
    "        self.todos = []\n",
    "\n",
    "    def add(self, todo):\n",
    "        if isinstance(todo, Todo):\n",
    "            self.todos.append(todo)\n",
    "        else:\n",
    "            print(\"⚠️ Only Todo objects can be added.\")\n",
    "\n",
    "    def remove(self, index):\n",
    "        if 0 <= index < len(self.todos):\n",
    "            removed = self.todos.pop(index)\n",
    "            print(f\"🗑️ Removed: {removed.data['text']}\")\n",
    "        else:\n",
    "            print(\"⚠️ Invalid index.\")\n",
    "\n",
    "    def show_all(self):\n",
    "        if not self.todos:\n",
    "            print(\"📝 No todos yet.\")\n",
    "        else:\n",
    "            for i, todo in enumerate(self.todos, start=1):\n",
    "                d = todo.data\n",
    "                print(f\"{i}. {d['text']} (Created: {d['created']}, Due: {d['due']})\")\n",
    "\n",
    "    def show_overdue(self):\n",
    "        overdue = [t for t in self.todos if t.is_overdue()]\n",
    "\n",
    "        if not overdue:\n",
    "            print(\"🎉 No overdue tasks!\")\n",
    "        else:\n",
    "            print(\"⚠️ Overdue tasks:\")\n",
    "            for t in overdue:\n",
    "                print(f\" - {t.data['text']} (Due: {t.data['due']})\")\n",
    "\n",
    "    \n",
    "    def load_from_file(self, filename):\n",
    "        \"\"\"Load todos from a text file created by save_to_file().\"\"\"\n",
    "        try:\n",
    "            with open(filename, 'r') as f:\n",
    "                lines = f.readlines()\n",
    "\n",
    "            for line in lines:\n",
    "                parts = line.strip().split('|')\n",
    "                if len(parts) != 3:\n",
    "                    continue  # skip malformed lines\n",
    "\n",
    "                text = parts[0].strip()\n",
    "                created_str = parts[1].replace('Created:', '').strip()\n",
    "                due_str = parts[2].replace('Due:', '').strip()\n",
    "\n",
    "                try:\n",
    "                    todo = Todo(text, created_str, due_str)\n",
    "                    self.add(todo)\n",
    "                except ValueError:\n",
    "                    print(f\"⚠️ Skipped invalid date format in line: {line.strip()}\")\n",
    "\n",
    "            print(f\"📂 Loaded {len(self.todos)} todos from {filename}\")\n",
    "\n",
    "        except FileNotFoundError:\n",
    "            print(f\"❌ File not found: {filename}\")\n",
    "\n",
    "\n"
   ]
  },
  {
   "cell_type": "markdown",
   "id": "exercises",
   "metadata": {},
   "source": [
    "## 🔧 🔟 Exercises"
   ]
  },
  {
   "cell_type": "markdown",
   "id": "ex1",
   "metadata": {},
   "source": [
    "### Exercise 1 — Custom `__str__`\n",
    "Create a class `Book` with attributes `title`, `author`, `year`.  \n",
    "Define `__str__` to print in the form:\n",
    "```\n",
    "📖 Title (Author, Year)\n",
    "```"
   ]
  },
  {
   "cell_type": "code",
   "execution_count": null,
   "id": "ex1-code",
   "metadata": {},
   "outputs": [],
   "source": [
    "# TODO: Create Book class with __str__ that formats output neatly\n",
    "class Book:\n",
    "    \"\"\"\n",
    "    Simple book record.\n",
    "\n",
    "    Args:\n",
    "        title (str): Book title.\n",
    "        author (str): Author's name.\n",
    "        year (int | str | None): Publication year (optional).\n",
    "        pages (int | str | None): Page count (optional).\n",
    "    \"\"\"\n",
    "    def __init__(self, title, author, year=None, pages=None):\n",
    "        self.title = str(title).strip()\n",
    "        self.author = str(author).strip()\n",
    "        self.year = int(year) if year is not None and str(year).strip() != \"\" else None\n",
    "        self.pages = int(pages) if pages is not None and str(pages).strip() != \"\" else None\n",
    "\n",
    "    def __str__(self):\n",
    "        # Example: “The Left Hand of Darkness” | by Ursula K. Le Guin | 1969 | 304 pp.\n",
    "        parts = [f\"“{self.title}”\", f\"by {self.author}\"]\n",
    "        if self.year is not None:\n",
    "            parts.append(f\"{self.year}\")\n",
    "        if self.pages is not None:\n",
    "            parts.append(f\"{self.pages} pp.\")\n",
    "        return \" | \".join(parts)"
   ]
  },
  {
   "cell_type": "markdown",
   "id": "ex2",
   "metadata": {},
   "source": [
    "### Exercise 2 — Implement `__add__`\n",
    "Create a class `ShoppingCart` that holds a list of items.  \n",
    "When you use `+`, combine two carts into one containing all items."
   ]
  },
  {
   "cell_type": "code",
   "execution_count": null,
   "id": "ex2-code",
   "metadata": {},
   "outputs": [
    {
     "ename": "NameError",
     "evalue": "name 'cart' is not defined",
     "output_type": "error",
     "traceback": [
      "\u001b[0;31m---------------------------------------------------------------------------\u001b[0m",
      "\u001b[0;31mNameError\u001b[0m                                 Traceback (most recent call last)",
      "Cell \u001b[0;32mIn[4], line 19\u001b[0m\n\u001b[1;32m     16\u001b[0m         \u001b[38;5;28;01melse\u001b[39;00m:\n\u001b[1;32m     17\u001b[0m          \u001b[38;5;28;01mreturn\u001b[39;00m \u001b[38;5;28mself\u001b[39m\u001b[38;5;241m.\u001b[39mmycart \u001b[38;5;241m+\u001b[39m other\u001b[38;5;241m.\u001b[39mmycart\n\u001b[0;32m---> 19\u001b[0m daves \u001b[38;5;241m=\u001b[39m ShoppingCart([\u001b[38;5;241m1\u001b[39m,\u001b[38;5;241m2\u001b[39m,\u001b[38;5;241m3\u001b[39m]) \n\u001b[1;32m     20\u001b[0m petes \u001b[38;5;241m=\u001b[39m ShoppingCart([\u001b[38;5;241m4\u001b[39m,\u001b[38;5;241m5\u001b[39m,\u001b[38;5;241m6\u001b[39m]) \n\u001b[1;32m     22\u001b[0m \u001b[38;5;28mprint\u001b[39m(daves \u001b[38;5;241m+\u001b[39m \u001b[38;5;241m5\u001b[39m)\n",
      "Cell \u001b[0;32mIn[4], line 9\u001b[0m, in \u001b[0;36mShoppingCart.__init__\u001b[0;34m(self, mycart)\u001b[0m\n\u001b[1;32m      7\u001b[0m \u001b[38;5;28;01mdef\u001b[39;00m \u001b[38;5;21m__init__\u001b[39m(\u001b[38;5;28mself\u001b[39m, mycart):\n\u001b[1;32m      8\u001b[0m     \u001b[38;5;28mself\u001b[39m\u001b[38;5;241m.\u001b[39mmycart \u001b[38;5;241m=\u001b[39m []\n\u001b[0;32m----> 9\u001b[0m     \u001b[38;5;28;01mfor\u001b[39;00m c \u001b[38;5;129;01min\u001b[39;00m cart:\n\u001b[1;32m     10\u001b[0m         \u001b[38;5;28mself\u001b[39m\u001b[38;5;241m.\u001b[39mmyccart\u001b[38;5;241m.\u001b[39mappend(c)\n",
      "\u001b[0;31mNameError\u001b[0m: name 'cart' is not defined"
     ]
    }
   ],
   "source": [
    "# TODO: Implement ShoppingCart class with __add__ to merge carts\n",
    "class ShoppingCart:\n",
    "    \"\"\"\n",
    "    Holds item quantities in a dict: {name: qty}.\n",
    "    Using + returns a NEW cart with summed quantities.\n",
    "    \"\"\"\n",
    "    def __init__(self, cart):\n",
    "        self.mycart = []\n",
    "        for c in cart:\n",
    "            self.myccart.append(c)\n",
    "\n",
    "    def _add_(self, other):\n",
    "        if not isinstance(other, ShoppingCart):\n",
    "           print('you can only add shopping carts')\n",
    "           return self \n",
    "        else:\n",
    "         return self.mycart + other.mycart\n",
    "    \n",
    "daves = ShoppingCart([1,2,3]) \n",
    "petes = ShoppingCart([4,5,6]) \n",
    "\n",
    "print(daves + 5)\n",
    "print(daves + petes)\n"
   ]
  },
  {
   "cell_type": "markdown",
   "id": "ex3",
   "metadata": {},
   "source": [
    "### Exercise 3 — Add Properties\n",
    "Create a class `Rectangle` with private attributes `_width`, `_height`.  \n",
    "Use `@property` to enforce positive values and a read-only `area`."
   ]
  },
  {
   "cell_type": "code",
   "execution_count": null,
   "id": "ex3-code",
   "metadata": {},
   "outputs": [],
   "source": [
    "# TODO: Create Rectangle class using @property for width, height, and area"
   ]
  },
  {
   "cell_type": "markdown",
   "id": "ex4",
   "metadata": {},
   "source": [
    "### Exercise 4 — Extend Todo & MyList\n",
    "Add methods:\n",
    "- `edit_text()` to modify a todo’s description (already implemented above)\n",
    "- `save_to_file(filename)` in `MyList` to write all todos to a text file"
   ]
  },
  {
   "cell_type": "code",
   "execution_count": null,
   "id": "ex4-code",
   "metadata": {},
   "outputs": [],
   "source": [
    "# TODO: Test and extend the Todo and MyList classes with edit_text() and save_to_file()"
   ]
  },
  {
   "cell_type": "markdown",
   "id": "summary",
   "metadata": {},
   "source": [
    "## ✅ Summary\n",
    "| Concept | Key Idea |\n",
    "|----------|-----------|\n",
    "| `@property` | Controls how attributes are read/written |\n",
    "| `__str__` | Defines printable string form |\n",
    "| `__add__` | Defines `+` behavior |\n",
    "| Composition | One class holding instances of another |\n",
    "| Dates | Convert strings with `datetime.date.fromisoformat()` |"
   ]
  }
 ],
 "metadata": {
  "kernelspec": {
   "display_name": "base",
   "language": "python",
   "name": "python3"
  },
  "language_info": {
   "codemirror_mode": {
    "name": "ipython",
    "version": 3
   },
   "file_extension": ".py",
   "mimetype": "text/x-python",
   "name": "python",
   "nbconvert_exporter": "python",
   "pygments_lexer": "ipython3",
   "version": "3.12.2"
  }
 },
 "nbformat": 4,
 "nbformat_minor": 5
}
